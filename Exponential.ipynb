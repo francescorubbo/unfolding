{
 "cells": [
  {
   "cell_type": "code",
   "execution_count": 1,
   "id": "9b1af9ba-b711-43f0-b8c4-4c3158a1851a",
   "metadata": {},
   "outputs": [
    {
     "name": "stderr",
     "output_type": "stream",
     "text": [
      "WARNING (pytensor.tensor.blas): Using NumPy C-API based implementation for BLAS functions.\n"
     ]
    }
   ],
   "source": [
    "import matplotlib.pyplot as plt\n",
    "import numpy as np\n",
    "import pymc as pm"
   ]
  },
  {
   "cell_type": "code",
   "execution_count": 2,
   "id": "d69c065f-93a1-4158-b96d-832a7cdb1c01",
   "metadata": {},
   "outputs": [],
   "source": [
    "def sigmoid(x):\n",
    "    return 1 / (1 + np.exp(-x))"
   ]
  },
  {
   "cell_type": "code",
   "execution_count": 3,
   "id": "7adea5e7-f771-494e-bb38-cd565571cb25",
   "metadata": {},
   "outputs": [],
   "source": [
    "N = 10000\n",
    "bins = [0, 1, 2, 3, 4, np.inf]\n",
    "truth_data = np.random.exponential(scale=1.0, size=N)\n",
    "truth_hist, _ = np.histogram(truth_data, bins=bins)\n",
    "resolution = np.random.normal(loc=1., scale=0.3, size=N)\n",
    "efficiency = np.random.uniform(size=N) > 1 - sigmoid(truth_data / 4)\n",
    "observed_data = (resolution * truth_data)[efficiency]\n",
    "observed_hist, _ = np.histogram(observed_data, bins=bins)\n",
    "migrations, _, _ = np.histogram2d(observed_data, truth_data[efficiency], bins=bins)\n",
    "response = migrations / truth_hist"
   ]
  },
  {
   "cell_type": "code",
   "execution_count": 4,
   "id": "10b5154c-1ef3-4c45-ba27-eb7f513c89bb",
   "metadata": {},
   "outputs": [],
   "source": [
    "# test closure\n",
    "np.testing.assert_almost_equal(np.dot(response, truth_hist), observed_hist)"
   ]
  },
  {
   "cell_type": "code",
   "execution_count": 5,
   "id": "7dac5043-ff28-4168-a81d-20dd7878889e",
   "metadata": {},
   "outputs": [
    {
     "name": "stderr",
     "output_type": "stream",
     "text": [
      "Multiprocess sampling (4 chains in 4 jobs)\n",
      "Metropolis: [params]\n"
     ]
    },
    {
     "data": {
      "application/vnd.jupyter.widget-view+json": {
       "model_id": "4225177097384f0caa1e632a9ae6d298",
       "version_major": 2,
       "version_minor": 0
      },
      "text/plain": [
       "Output()"
      ]
     },
     "metadata": {},
     "output_type": "display_data"
    },
    {
     "data": {
      "text/html": [
       "<pre style=\"white-space:pre;overflow-x:auto;line-height:normal;font-family:Menlo,'DejaVu Sans Mono',consolas,'Courier New',monospace\"></pre>\n"
      ],
      "text/plain": []
     },
     "metadata": {},
     "output_type": "display_data"
    },
    {
     "name": "stderr",
     "output_type": "stream",
     "text": [
      "Sampling 4 chains for 10_000 tune and 50_000 draw iterations (40_000 + 200_000 draws total) took 10 seconds.\n"
     ]
    }
   ],
   "source": [
    "model = pm.Model()\n",
    "\n",
    "with model:\n",
    "    params = pm.DiscreteUniform(\n",
    "        \"params\", \n",
    "        lower=truth_hist // 10, \n",
    "        upper=truth_hist * 10,\n",
    "    )\n",
    "    likelihood = pm.Poisson(\n",
    "        \"likelihood\", mu=pm.math.dot(response, params),\n",
    "        observed=observed_hist,\n",
    "    )\n",
    "    trace = pm.sample(draws=50000, tune=10000)"
   ]
  },
  {
   "cell_type": "code",
   "execution_count": 6,
   "id": "69b3ab1f-fa07-4dbb-ad38-d97888fb6af6",
   "metadata": {},
   "outputs": [
    {
     "data": {
      "text/plain": [
       "array([6281, 2353,  855,  304,  207])"
      ]
     },
     "execution_count": 6,
     "metadata": {},
     "output_type": "execute_result"
    }
   ],
   "source": [
    "truth_hist"
   ]
  },
  {
   "cell_type": "code",
   "execution_count": 7,
   "id": "810a8549-f755-4be1-87b2-2b4f661150f8",
   "metadata": {
    "scrolled": true
   },
   "outputs": [
    {
     "data": {
      "text/plain": [
       "array([[6281.28624, 2362.3562 ,  837.17448,  328.59854,  198.07114],\n",
       "       [6282.60016, 2361.91742,  837.34302,  330.32006,  196.46126],\n",
       "       [6279.69624, 2363.34016,  844.58984,  318.74182,  202.199  ],\n",
       "       [6281.11968, 2359.39696,  844.88478,  321.17334,  200.64194]])"
      ]
     },
     "execution_count": 7,
     "metadata": {},
     "output_type": "execute_result"
    }
   ],
   "source": [
    "trace.posterior.params.mean(axis=1).to_numpy()"
   ]
  },
  {
   "cell_type": "code",
   "execution_count": 8,
   "id": "169ea77b-2740-4728-9b3a-7118132a9d47",
   "metadata": {},
   "outputs": [
    {
     "data": {
      "text/plain": [
       "array([[125.31340322, 128.16944285, 154.99859198, 154.86302299,\n",
       "         74.46108782],\n",
       "       [125.56087037, 126.54126157, 152.8367584 , 154.58905415,\n",
       "         74.52745091],\n",
       "       [122.86655399, 128.94400355, 154.7236498 , 154.17806317,\n",
       "         74.05810178],\n",
       "       [125.40576253, 127.14860118, 155.336698  , 156.4927816 ,\n",
       "         75.07951074]])"
      ]
     },
     "execution_count": 8,
     "metadata": {},
     "output_type": "execute_result"
    }
   ],
   "source": [
    "trace.posterior.params.std(axis=1).to_numpy()"
   ]
  },
  {
   "cell_type": "code",
   "execution_count": 9,
   "id": "7487033f-dba3-4c74-8c5e-1f2ec46f5425",
   "metadata": {},
   "outputs": [
    {
     "data": {
      "text/plain": [
       "<matplotlib.legend.Legend at 0x141d08b90>"
      ]
     },
     "execution_count": 9,
     "metadata": {},
     "output_type": "execute_result"
    },
    {
     "data": {
      "image/png": "[encoded data removed]",
      "text/plain": [
       "<Figure size 640x480 with 1 Axes>"
      ]
     },
     "metadata": {},
     "output_type": "display_data"
    }
   ],
   "source": [
    "positions = [0.5, 1.5, 2.5, 3.5, 6]\n",
    "xerr = [0.5, 0.5, 0.5, 0.5, 2]\n",
    "vp = plt.violinplot(\n",
    "    trace.posterior.params[0],\n",
    "    positions=positions,\n",
    "    showextrema=False,\n",
    ")\n",
    "eb = plt.errorbar(\n",
    "    x=positions,\n",
    "    y=truth_hist,\n",
    "    xerr=xerr,\n",
    "    fmt=\".\",\n",
    ")\n",
    "plt.legend([vp[\"bodies\"][0], eb.lines], [\"Posterior\", \"Truth\"])"
   ]
  },
  {
   "cell_type": "markdown",
   "id": "94e87fb0-a0ae-4a9f-837f-ff34ba70e954",
   "metadata": {},
   "source": [
    "# Unseen distribution with same resolution/efficiency"
   ]
  },
  {
   "cell_type": "code",
   "execution_count": 10,
   "id": "cc3df5d4-224c-4c8f-a3a8-a064a6ccc5f5",
   "metadata": {},
   "outputs": [],
   "source": [
    "new_truth_data = np.random.exponential(scale=2.0, size=N)\n",
    "new_truth_hist, _ = np.histogram(new_truth_data, bins=bins)\n",
    "new_efficiency = np.random.uniform(size=N) > 1 - sigmoid(new_truth_data / 4)\n",
    "new_observed_data = (resolution * new_truth_data)[new_efficiency]\n",
    "new_observed_hist, _ = np.histogram(new_observed_data, bins=bins)"
   ]
  },
  {
   "cell_type": "code",
   "execution_count": 11,
   "id": "6a392006-8dbb-41d1-b6b3-1c76f7877336",
   "metadata": {},
   "outputs": [
    {
     "data": {
      "text/plain": [
       "array([2270.21325429, 1386.99396787,  872.66523694,  564.25773938,\n",
       "       1038.02913806])"
      ]
     },
     "execution_count": 11,
     "metadata": {},
     "output_type": "execute_result"
    }
   ],
   "source": [
    "np.dot(response, new_truth_hist)"
   ]
  },
  {
   "cell_type": "code",
   "execution_count": 12,
   "id": "bb501b86-cdb3-4d65-962a-a3be7e05f3af",
   "metadata": {},
   "outputs": [
    {
     "data": {
      "text/plain": [
       "array([2263, 1363,  896,  548, 1080])"
      ]
     },
     "execution_count": 12,
     "metadata": {},
     "output_type": "execute_result"
    }
   ],
   "source": [
    "new_observed_hist"
   ]
  },
  {
   "cell_type": "code",
   "execution_count": 13,
   "id": "4745bee8-a5fc-472c-8c1b-f36f7fd9ddf1",
   "metadata": {},
   "outputs": [
    {
     "data": {
      "text/plain": [
       "array([0.52412036, 0.58988525, 0.64912281, 0.74013158, 0.79710145])"
      ]
     },
     "execution_count": 13,
     "metadata": {},
     "output_type": "execute_result"
    }
   ],
   "source": [
    "np.histogram(truth_data[efficiency], bins=bins)[0] / truth_hist"
   ]
  },
  {
   "cell_type": "code",
   "execution_count": 14,
   "id": "35cd65fb-534f-4eef-9413-737845e6423d",
   "metadata": {},
   "outputs": [
    {
     "data": {
      "text/plain": [
       "array([0.53980288, 0.58238517, 0.64594972, 0.6970339 , 0.8137558 ])"
      ]
     },
     "execution_count": 14,
     "metadata": {},
     "output_type": "execute_result"
    }
   ],
   "source": [
    "np.histogram(new_truth_data[new_efficiency], bins=bins)[0] / new_truth_hist"
   ]
  },
  {
   "cell_type": "code",
   "execution_count": 15,
   "id": "c86b6e5c-9309-40ab-869f-0df04aa8b67b",
   "metadata": {},
   "outputs": [
    {
     "name": "stderr",
     "output_type": "stream",
     "text": [
      "Multiprocess sampling (4 chains in 4 jobs)\n",
      "Metropolis: [params]\n"
     ]
    },
    {
     "data": {
      "application/vnd.jupyter.widget-view+json": {
       "model_id": "b6783fce508d4207bb115e7848460ec7",
       "version_major": 2,
       "version_minor": 0
      },
      "text/plain": [
       "Output()"
      ]
     },
     "metadata": {},
     "output_type": "display_data"
    },
    {
     "data": {
      "text/html": [
       "<pre style=\"white-space:pre;overflow-x:auto;line-height:normal;font-family:Menlo,'DejaVu Sans Mono',consolas,'Courier New',monospace\"></pre>\n"
      ],
      "text/plain": []
     },
     "metadata": {},
     "output_type": "display_data"
    },
    {
     "name": "stderr",
     "output_type": "stream",
     "text": [
      "Sampling 4 chains for 10_000 tune and 50_000 draw iterations (40_000 + 200_000 draws total) took 10 seconds.\n"
     ]
    }
   ],
   "source": [
    "model = pm.Model()\n",
    "\n",
    "with model:\n",
    "    params = pm.DiscreteUniform(\n",
    "        \"params\", \n",
    "        lower=truth_hist // 10, \n",
    "        upper=truth_hist * 10,\n",
    "    )\n",
    "    likelihood = pm.Poisson(\n",
    "        \"likelihood\", mu=pm.math.dot(response, params),\n",
    "        observed=new_observed_hist,\n",
    "    )\n",
    "    new_trace = pm.sample(draws=50000, tune=10000)"
   ]
  },
  {
   "cell_type": "code",
   "execution_count": 16,
   "id": "b7f5f344-4bfc-4046-8430-438b904b2c39",
   "metadata": {},
   "outputs": [
    {
     "data": {
      "text/plain": [
       "array([3957, 2373, 1432,  944, 1294])"
      ]
     },
     "execution_count": 16,
     "metadata": {},
     "output_type": "execute_result"
    }
   ],
   "source": [
    "new_truth_hist"
   ]
  },
  {
   "cell_type": "code",
   "execution_count": 17,
   "id": "10480353-e845-4337-9034-7e59550387d3",
   "metadata": {},
   "outputs": [
    {
     "data": {
      "text/html": [
       "<div><svg style=\"position: absolute; width: 0; height: 0; overflow: hidden\">\n",
       "<defs>\n",
       "<symbol id=\"icon-database\" viewBox=\"0 0 32 32\">\n",
       "<path d=\"M16 0c-8.837 0-16 2.239-16 5v4c0 2.761 7.163 5 16 5s16-2.239 16-5v-4c0-2.761-7.163-5-16-5z\"></path>\n",
       "<path d=\"M16 17c-8.837 0-16-2.239-16-5v6c0 2.761 7.163 5 16 5s16-2.239 16-5v-6c0 2.761-7.163 5-16 5z\"></path>\n",
       "<path d=\"M16 26c-8.837 0-16-2.239-16-5v6c0 2.761 7.163 5 16 5s16-2.239 16-5v-6c0 2.761-7.163 5-16 5z\"></path>\n",
       "</symbol>\n",
       "<symbol id=\"icon-file-text2\" viewBox=\"0 0 32 32\">\n",
       "<path d=\"M28.681 7.159c-0.694-0.947-1.662-2.053-2.724-3.116s-2.169-2.030-3.116-2.724c-1.612-1.182-2.393-1.319-2.841-1.319h-15.5c-1.378 0-2.5 1.121-2.5 2.5v27c0 1.378 1.122 2.5 2.5 2.5h23c1.378 0 2.5-1.122 2.5-2.5v-19.5c0-0.448-0.137-1.23-1.319-2.841zM24.543 5.457c0.959 0.959 1.712 1.825 2.268 2.543h-4.811v-4.811c0.718 0.556 1.584 1.309 2.543 2.268zM28 29.5c0 0.271-0.229 0.5-0.5 0.5h-23c-0.271 0-0.5-0.229-0.5-0.5v-27c0-0.271 0.229-0.5 0.5-0.5 0 0 15.499-0 15.5 0v7c0 0.552 0.448 1 1 1h7v19.5z\"></path>\n",
       "<path d=\"M23 26h-14c-0.552 0-1-0.448-1-1s0.448-1 1-1h14c0.552 0 1 0.448 1 1s-0.448 1-1 1z\"></path>\n",
       "<path d=\"M23 22h-14c-0.552 0-1-0.448-1-1s0.448-1 1-1h14c0.552 0 1 0.448 1 1s-0.448 1-1 1z\"></path>\n",
       "<path d=\"M23 18h-14c-0.552 0-1-0.448-1-1s0.448-1 1-1h14c0.552 0 1 0.448 1 1s-0.448 1-1 1z\"></path>\n",
       "</symbol>\n",
       "</defs>\n",
       "</svg>\n",
       "<style>/* CSS stylesheet for displaying xarray objects in jupyterlab.\n",
       " *\n",
       " */\n",
       "\n",
       ":root {\n",
       "  --xr-font-color0: var(--jp-content-font-color0, rgba(0, 0, 0, 1));\n",
       "  --xr-font-color2: var(--jp-content-font-color2, rgba(0, 0, 0, 0.54));\n",
       "  --xr-font-color3: var(--jp-content-font-color3, rgba(0, 0, 0, 0.38));\n",
       "  --xr-border-color: var(--jp-border-color2, #e0e0e0);\n",
       "  --xr-disabled-color: var(--jp-layout-color3, #bdbdbd);\n",
       "  --xr-background-color: var(--jp-layout-color0, white);\n",
       "  --xr-background-color-row-even: var(--jp-layout-color1, white);\n",
       "  --xr-background-color-row-odd: var(--jp-layout-color2, #eeeeee);\n",
       "}\n",
       "\n",
       "html[theme=dark],\n",
       "html[data-theme=dark],\n",
       "body[data-theme=dark],\n",
       "body.vscode-dark {\n",
       "  --xr-font-color0: rgba(255, 255, 255, 1);\n",
       "  --xr-font-color2: rgba(255, 255, 255, 0.54);\n",
       "  --xr-font-color3: rgba(255, 255, 255, 0.38);\n",
       "  --xr-border-color: #1F1F1F;\n",
       "  --xr-disabled-color: #515151;\n",
       "  --xr-background-color: #111111;\n",
       "  --xr-background-color-row-even: #111111;\n",
       "  --xr-background-color-row-odd: #313131;\n",
       "}\n",
       "\n",
       ".xr-wrap {\n",
       "  display: block !important;\n",
       "  min-width: 300px;\n",
       "  max-width: 700px;\n",
       "}\n",
       "\n",
       ".xr-text-repr-fallback {\n",
       "  /* fallback to plain text repr when CSS is not injected (untrusted notebook) */\n",
       "  display: none;\n",
       "}\n",
       "\n",
       ".xr-header {\n",
       "  padding-top: 6px;\n",
       "  padding-bottom: 6px;\n",
       "  margin-bottom: 4px;\n",
       "  border-bottom: solid 1px var(--xr-border-color);\n",
       "}\n",
       "\n",
       ".xr-header > div,\n",
       ".xr-header > ul {\n",
       "  display: inline;\n",
       "  margin-top: 0;\n",
       "  margin-bottom: 0;\n",
       "}\n",
       "\n",
       ".xr-obj-type,\n",
       ".xr-array-name {\n",
       "  margin-left: 2px;\n",
       "  margin-right: 10px;\n",
       "}\n",
       "\n",
       ".xr-obj-type {\n",
       "  color: var(--xr-font-color2);\n",
       "}\n",
       "\n",
       ".xr-sections {\n",
       "  padding-left: 0 !important;\n",
       "  display: grid;\n",
       "  grid-template-columns: 150px auto auto 1fr 0 20px 0 20px;\n",
       "}\n",
       "\n",
       ".xr-section-item {\n",
       "  display: contents;\n",
       "}\n",
       "\n",
       ".xr-section-item input {\n",
       "  display: inline-block;\n",
       "  opacity: 0;\n",
       "}\n",
       "\n",
       ".xr-section-item input + label {\n",
       "  color: var(--xr-disabled-color);\n",
       "}\n",
       "\n",
       ".xr-section-item input:enabled + label {\n",
       "  cursor: pointer;\n",
       "  color: var(--xr-font-color2);\n",
       "}\n",
       "\n",
       ".xr-section-item input:focus + label {\n",
       "  border: 2px solid var(--xr-font-color0);\n",
       "}\n",
       "\n",
       ".xr-section-item input:enabled + label:hover {\n",
       "  color: var(--xr-font-color0);\n",
       "}\n",
       "\n",
       ".xr-section-summary {\n",
       "  grid-column: 1;\n",
       "  color: var(--xr-font-color2);\n",
       "  font-weight: 500;\n",
       "}\n",
       "\n",
       ".xr-section-summary > span {\n",
       "  display: inline-block;\n",
       "  padding-left: 0.5em;\n",
       "}\n",
       "\n",
       ".xr-section-summary-in:disabled + label {\n",
       "  color: var(--xr-font-color2);\n",
       "}\n",
       "\n",
       ".xr-section-summary-in + label:before {\n",
       "  display: inline-block;\n",
       "  content: '►';\n",
       "  font-size: 11px;\n",
       "  width: 15px;\n",
       "  text-align: center;\n",
       "}\n",
       "\n",
       ".xr-section-summary-in:disabled + label:before {\n",
       "  color: var(--xr-disabled-color);\n",
       "}\n",
       "\n",
       ".xr-section-summary-in:checked + label:before {\n",
       "  content: '▼';\n",
       "}\n",
       "\n",
       ".xr-section-summary-in:checked + label > span {\n",
       "  display: none;\n",
       "}\n",
       "\n",
       ".xr-section-summary,\n",
       ".xr-section-inline-details {\n",
       "  padding-top: 4px;\n",
       "  padding-bottom: 4px;\n",
       "}\n",
       "\n",
       ".xr-section-inline-details {\n",
       "  grid-column: 2 / -1;\n",
       "}\n",
       "\n",
       ".xr-section-details {\n",
       "  display: none;\n",
       "  grid-column: 1 / -1;\n",
       "  margin-bottom: 5px;\n",
       "}\n",
       "\n",
       ".xr-section-summary-in:checked ~ .xr-section-details {\n",
       "  display: contents;\n",
       "}\n",
       "\n",
       ".xr-array-wrap {\n",
       "  grid-column: 1 / -1;\n",
       "  display: grid;\n",
       "  grid-template-columns: 20px auto;\n",
       "}\n",
       "\n",
       ".xr-array-wrap > label {\n",
       "  grid-column: 1;\n",
       "  vertical-align: top;\n",
       "}\n",
       "\n",
       ".xr-preview {\n",
       "  color: var(--xr-font-color3);\n",
       "}\n",
       "\n",
       ".xr-array-preview,\n",
       ".xr-array-data {\n",
       "  padding: 0 5px !important;\n",
       "  grid-column: 2;\n",
       "}\n",
       "\n",
       ".xr-array-data,\n",
       ".xr-array-in:checked ~ .xr-array-preview {\n",
       "  display: none;\n",
       "}\n",
       "\n",
       ".xr-array-in:checked ~ .xr-array-data,\n",
       ".xr-array-preview {\n",
       "  display: inline-block;\n",
       "}\n",
       "\n",
       ".xr-dim-list {\n",
       "  display: inline-block !important;\n",
       "  list-style: none;\n",
       "  padding: 0 !important;\n",
       "  margin: 0;\n",
       "}\n",
       "\n",
       ".xr-dim-list li {\n",
       "  display: inline-block;\n",
       "  padding: 0;\n",
       "  margin: 0;\n",
       "}\n",
       "\n",
       ".xr-dim-list:before {\n",
       "  content: '(';\n",
       "}\n",
       "\n",
       ".xr-dim-list:after {\n",
       "  content: ')';\n",
       "}\n",
       "\n",
       ".xr-dim-list li:not(:last-child):after {\n",
       "  content: ',';\n",
       "  padding-right: 5px;\n",
       "}\n",
       "\n",
       ".xr-has-index {\n",
       "  font-weight: bold;\n",
       "}\n",
       "\n",
       ".xr-var-list,\n",
       ".xr-var-item {\n",
       "  display: contents;\n",
       "}\n",
       "\n",
       ".xr-var-item > div,\n",
       ".xr-var-item label,\n",
       ".xr-var-item > .xr-var-name span {\n",
       "  background-color: var(--xr-background-color-row-even);\n",
       "  margin-bottom: 0;\n",
       "}\n",
       "\n",
       ".xr-var-item > .xr-var-name:hover span {\n",
       "  padding-right: 5px;\n",
       "}\n",
       "\n",
       ".xr-var-list > li:nth-child(odd) > div,\n",
       ".xr-var-list > li:nth-child(odd) > label,\n",
       ".xr-var-list > li:nth-child(odd) > .xr-var-name span {\n",
       "  background-color: var(--xr-background-color-row-odd);\n",
       "}\n",
       "\n",
       ".xr-var-name {\n",
       "  grid-column: 1;\n",
       "}\n",
       "\n",
       ".xr-var-dims {\n",
       "  grid-column: 2;\n",
       "}\n",
       "\n",
       ".xr-var-dtype {\n",
       "  grid-column: 3;\n",
       "  text-align: right;\n",
       "  color: var(--xr-font-color2);\n",
       "}\n",
       "\n",
       ".xr-var-preview {\n",
       "  grid-column: 4;\n",
       "}\n",
       "\n",
       ".xr-index-preview {\n",
       "  grid-column: 2 / 5;\n",
       "  color: var(--xr-font-color2);\n",
       "}\n",
       "\n",
       ".xr-var-name,\n",
       ".xr-var-dims,\n",
       ".xr-var-dtype,\n",
       ".xr-preview,\n",
       ".xr-attrs dt {\n",
       "  white-space: nowrap;\n",
       "  overflow: hidden;\n",
       "  text-overflow: ellipsis;\n",
       "  padding-right: 10px;\n",
       "}\n",
       "\n",
       ".xr-var-name:hover,\n",
       ".xr-var-dims:hover,\n",
       ".xr-var-dtype:hover,\n",
       ".xr-attrs dt:hover {\n",
       "  overflow: visible;\n",
       "  width: auto;\n",
       "  z-index: 1;\n",
       "}\n",
       "\n",
       ".xr-var-attrs,\n",
       ".xr-var-data,\n",
       ".xr-index-data {\n",
       "  display: none;\n",
       "  background-color: var(--xr-background-color) !important;\n",
       "  padding-bottom: 5px !important;\n",
       "}\n",
       "\n",
       ".xr-var-attrs-in:checked ~ .xr-var-attrs,\n",
       ".xr-var-data-in:checked ~ .xr-var-data,\n",
       ".xr-index-data-in:checked ~ .xr-index-data {\n",
       "  display: block;\n",
       "}\n",
       "\n",
       ".xr-var-data > table {\n",
       "  float: right;\n",
       "}\n",
       "\n",
       ".xr-var-name span,\n",
       ".xr-var-data,\n",
       ".xr-index-name div,\n",
       ".xr-index-data,\n",
       ".xr-attrs {\n",
       "  padding-left: 25px !important;\n",
       "}\n",
       "\n",
       ".xr-attrs,\n",
       ".xr-var-attrs,\n",
       ".xr-var-data,\n",
       ".xr-index-data {\n",
       "  grid-column: 1 / -1;\n",
       "}\n",
       "\n",
       "dl.xr-attrs {\n",
       "  padding: 0;\n",
       "  margin: 0;\n",
       "  display: grid;\n",
       "  grid-template-columns: 125px auto;\n",
       "}\n",
       "\n",
       ".xr-attrs dt,\n",
       ".xr-attrs dd {\n",
       "  padding: 0;\n",
       "  margin: 0;\n",
       "  float: left;\n",
       "  padding-right: 10px;\n",
       "  width: auto;\n",
       "}\n",
       "\n",
       ".xr-attrs dt {\n",
       "  font-weight: normal;\n",
       "  grid-column: 1;\n",
       "}\n",
       "\n",
       ".xr-attrs dt:hover span {\n",
       "  display: inline-block;\n",
       "  background: var(--xr-background-color);\n",
       "  padding-right: 10px;\n",
       "}\n",
       "\n",
       ".xr-attrs dd {\n",
       "  grid-column: 2;\n",
       "  white-space: pre-wrap;\n",
       "  word-break: break-all;\n",
       "}\n",
       "\n",
       ".xr-icon-database,\n",
       ".xr-icon-file-text2,\n",
       ".xr-no-icon {\n",
       "  display: inline-block;\n",
       "  vertical-align: middle;\n",
       "  width: 1em;\n",
       "  height: 1.5em !important;\n",
       "  stroke-width: 0;\n",
       "  stroke: currentColor;\n",
       "  fill: currentColor;\n",
       "}\n",
       "</style><pre class='xr-text-repr-fallback'>&lt;xarray.DataArray &#x27;params&#x27; (chain: 4, params_dim_0: 5)&gt; Size: 160B\n",
       "array([[3981.2329 , 2205.7553 , 1715.00998,  595.98228, 1522.40756],\n",
       "       [3976.69094, 2224.1412 , 1677.75188,  645.01822, 1496.95798],\n",
       "       [3978.36432, 2216.80916, 1695.24878,  619.04618, 1511.95456],\n",
       "       [3979.17312, 2213.09912, 1701.36396,  615.85938, 1511.50898]])\n",
       "Coordinates:\n",
       "  * chain         (chain) int64 32B 0 1 2 3\n",
       "  * params_dim_0  (params_dim_0) int64 40B 0 1 2 3 4</pre><div class='xr-wrap' style='display:none'><div class='xr-header'><div class='xr-obj-type'>xarray.DataArray</div><div class='xr-array-name'>'params'</div><ul class='xr-dim-list'><li><span class='xr-has-index'>chain</span>: 4</li><li><span class='xr-has-index'>params_dim_0</span>: 5</li></ul></div><ul class='xr-sections'><li class='xr-section-item'><div class='xr-array-wrap'><input id='section-20fe189c-7fc5-419b-ba64-05309ab8f508' class='xr-array-in' type='checkbox' checked><label for='section-20fe189c-7fc5-419b-ba64-05309ab8f508' title='Show/hide data repr'><svg class='icon xr-icon-database'><use xlink:href='#icon-database'></use></svg></label><div class='xr-array-preview xr-preview'><span>3.981e+03 2.206e+03 1.715e+03 596.0 ... 1.701e+03 615.9 1.512e+03</span></div><div class='xr-array-data'><pre>array([[3981.2329 , 2205.7553 , 1715.00998,  595.98228, 1522.40756],\n",
       "       [3976.69094, 2224.1412 , 1677.75188,  645.01822, 1496.95798],\n",
       "       [3978.36432, 2216.80916, 1695.24878,  619.04618, 1511.95456],\n",
       "       [3979.17312, 2213.09912, 1701.36396,  615.85938, 1511.50898]])</pre></div></div></li><li class='xr-section-item'><input id='section-fc780453-e3d5-48de-96ea-2f46872a8eb9' class='xr-section-summary-in' type='checkbox'  checked><label for='section-fc780453-e3d5-48de-96ea-2f46872a8eb9' class='xr-section-summary' >Coordinates: <span>(2)</span></label><div class='xr-section-inline-details'></div><div class='xr-section-details'><ul class='xr-var-list'><li class='xr-var-item'><div class='xr-var-name'><span class='xr-has-index'>chain</span></div><div class='xr-var-dims'>(chain)</div><div class='xr-var-dtype'>int64</div><div class='xr-var-preview xr-preview'>0 1 2 3</div><input id='attrs-72488c82-e151-48b1-ba26-77b20c4f20a7' class='xr-var-attrs-in' type='checkbox' disabled><label for='attrs-72488c82-e151-48b1-ba26-77b20c4f20a7' title='Show/Hide attributes'><svg class='icon xr-icon-file-text2'><use xlink:href='#icon-file-text2'></use></svg></label><input id='data-14a63ca4-8f08-471e-8fc4-88c1bcda7af0' class='xr-var-data-in' type='checkbox'><label for='data-14a63ca4-8f08-471e-8fc4-88c1bcda7af0' title='Show/Hide data repr'><svg class='icon xr-icon-database'><use xlink:href='#icon-database'></use></svg></label><div class='xr-var-attrs'><dl class='xr-attrs'></dl></div><div class='xr-var-data'><pre>array([0, 1, 2, 3])</pre></div></li><li class='xr-var-item'><div class='xr-var-name'><span class='xr-has-index'>params_dim_0</span></div><div class='xr-var-dims'>(params_dim_0)</div><div class='xr-var-dtype'>int64</div><div class='xr-var-preview xr-preview'>0 1 2 3 4</div><input id='attrs-c5377c71-5b51-4c39-b218-ca9c6b823d90' class='xr-var-attrs-in' type='checkbox' disabled><label for='attrs-c5377c71-5b51-4c39-b218-ca9c6b823d90' title='Show/Hide attributes'><svg class='icon xr-icon-file-text2'><use xlink:href='#icon-file-text2'></use></svg></label><input id='data-b1bde71c-1cd6-4745-99df-9e7446b5b217' class='xr-var-data-in' type='checkbox'><label for='data-b1bde71c-1cd6-4745-99df-9e7446b5b217' title='Show/Hide data repr'><svg class='icon xr-icon-database'><use xlink:href='#icon-database'></use></svg></label><div class='xr-var-attrs'><dl class='xr-attrs'></dl></div><div class='xr-var-data'><pre>array([0, 1, 2, 3, 4])</pre></div></li></ul></div></li><li class='xr-section-item'><input id='section-b23cb0e7-24b4-4fb1-a963-5e09a451ec61' class='xr-section-summary-in' type='checkbox'  ><label for='section-b23cb0e7-24b4-4fb1-a963-5e09a451ec61' class='xr-section-summary' >Indexes: <span>(2)</span></label><div class='xr-section-inline-details'></div><div class='xr-section-details'><ul class='xr-var-list'><li class='xr-var-item'><div class='xr-index-name'><div>chain</div></div><div class='xr-index-preview'>PandasIndex</div><div></div><input id='index-fd56a2b9-9977-422a-b194-b5e14446ef28' class='xr-index-data-in' type='checkbox'/><label for='index-fd56a2b9-9977-422a-b194-b5e14446ef28' title='Show/Hide index repr'><svg class='icon xr-icon-database'><use xlink:href='#icon-database'></use></svg></label><div class='xr-index-data'><pre>PandasIndex(Index([0, 1, 2, 3], dtype=&#x27;int64&#x27;, name=&#x27;chain&#x27;))</pre></div></li><li class='xr-var-item'><div class='xr-index-name'><div>params_dim_0</div></div><div class='xr-index-preview'>PandasIndex</div><div></div><input id='index-ad0c8e4a-3147-4bbf-a2d7-f4e3bf53a0ae' class='xr-index-data-in' type='checkbox'/><label for='index-ad0c8e4a-3147-4bbf-a2d7-f4e3bf53a0ae' title='Show/Hide index repr'><svg class='icon xr-icon-database'><use xlink:href='#icon-database'></use></svg></label><div class='xr-index-data'><pre>PandasIndex(Index([0, 1, 2, 3, 4], dtype=&#x27;int64&#x27;, name=&#x27;params_dim_0&#x27;))</pre></div></li></ul></div></li><li class='xr-section-item'><input id='section-3d819a34-0d19-4684-8ff8-ba8e56c99bd2' class='xr-section-summary-in' type='checkbox' disabled ><label for='section-3d819a34-0d19-4684-8ff8-ba8e56c99bd2' class='xr-section-summary'  title='Expand/collapse section'>Attributes: <span>(0)</span></label><div class='xr-section-inline-details'></div><div class='xr-section-details'><dl class='xr-attrs'></dl></div></li></ul></div></div>"
      ],
      "text/plain": [
       "<xarray.DataArray 'params' (chain: 4, params_dim_0: 5)> Size: 160B\n",
       "array([[3981.2329 , 2205.7553 , 1715.00998,  595.98228, 1522.40756],\n",
       "       [3976.69094, 2224.1412 , 1677.75188,  645.01822, 1496.95798],\n",
       "       [3978.36432, 2216.80916, 1695.24878,  619.04618, 1511.95456],\n",
       "       [3979.17312, 2213.09912, 1701.36396,  615.85938, 1511.50898]])\n",
       "Coordinates:\n",
       "  * chain         (chain) int64 32B 0 1 2 3\n",
       "  * params_dim_0  (params_dim_0) int64 40B 0 1 2 3 4"
      ]
     },
     "execution_count": 17,
     "metadata": {},
     "output_type": "execute_result"
    }
   ],
   "source": [
    "new_trace.posterior.params.mean(axis=1)"
   ]
  },
  {
   "cell_type": "code",
   "execution_count": 18,
   "id": "179011e4-7192-4845-a603-a39c05250541",
   "metadata": {},
   "outputs": [
    {
     "data": {
      "text/plain": [
       "<matplotlib.legend.Legend at 0x140d85100>"
      ]
     },
     "execution_count": 18,
     "metadata": {},
     "output_type": "execute_result"
    },
    {
     "data": {
      "image/png": "[encoded data removed]",
      "text/plain": [
       "<Figure size 640x480 with 1 Axes>"
      ]
     },
     "metadata": {},
     "output_type": "display_data"
    }
   ],
   "source": [
    "positions = [0.5, 1.5, 2.5, 3.5, 6]\n",
    "xerr = [0.5, 0.5, 0.5, 0.5, 2]\n",
    "vp = plt.violinplot(\n",
    "    new_trace.posterior.params[0],\n",
    "    positions=positions,\n",
    "    showextrema=False,\n",
    ")\n",
    "eb = plt.errorbar(\n",
    "    x=positions,\n",
    "    y=new_truth_hist,\n",
    "    xerr=xerr,\n",
    "    fmt=\".\",\n",
    ")\n",
    "plt.legend([vp[\"bodies\"][0], eb.lines], [\"Posterior\", \"Truth\"])"
   ]
  },
  {
   "cell_type": "code",
   "execution_count": null,
   "id": "0d7f5fe4-141d-47c5-b13a-9222cca1ffbe",
   "metadata": {},
   "outputs": [],
   "source": []
  }
 ],
 "metadata": {
  "kernelspec": {
   "display_name": "Python 3 (ipykernel)",
   "language": "python",
   "name": "python3"
  },
  "language_info": {
   "codemirror_mode": {
    "name": "ipython",
    "version": 3
   },
   "file_extension": ".py",
   "mimetype": "text/x-python",
   "name": "python",
   "nbconvert_exporter": "python",
   "pygments_lexer": "ipython3",
   "version": "3.12.6"
  }
 },
 "nbformat": 4,
 "nbformat_minor": 5
}
