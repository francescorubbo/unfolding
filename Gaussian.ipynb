{
 "cells": [
  {
   "cell_type": "code",
   "execution_count": 1,
   "id": "25a7df0d-03f2-4e09-b762-baa32f4a943f",
   "metadata": {},
   "outputs": [
    {
     "name": "stderr",
     "output_type": "stream",
     "text": [
      "WARNING (pytensor.tensor.blas): Using NumPy C-API based implementation for BLAS functions.\n"
     ]
    }
   ],
   "source": [
    "import matplotlib.pyplot as plt\n",
    "import numpy as np\n",
    "import pymc as pm"
   ]
  },
  {
   "cell_type": "code",
   "execution_count": 2,
   "id": "e1b1e9e3-4d10-40cb-9df9-2b5447cfe2ac",
   "metadata": {},
   "outputs": [],
   "source": [
    "N = 10000\n",
    "SMEAR = 0.3\n",
    "bins = [-np.inf, -3.5, -2, -1, -0.5, 0, 0.5, 1, 2, 3.5, np.inf]\n",
    "truth_data = np.random.normal(size=N)\n",
    "truth_hist, _ = np.histogram(truth_data, bins=bins)\n",
    "resolution = np.random.normal(loc=1., scale=SMEAR, size=N)\n",
    "efficiency = np.random.uniform(size=N) > 0.\n",
    "observed_data = (resolution * truth_data)[efficiency]\n",
    "observed_hist, _ = np.histogram(observed_data, bins=bins)\n",
    "migrations, _, _ = np.histogram2d(observed_data, truth_data[efficiency], bins=bins)\n",
    "response = migrations / truth_hist"
   ]
  },
  {
   "cell_type": "code",
   "execution_count": 3,
   "id": "746252c2-b659-4c76-8e69-7cff80ef6c14",
   "metadata": {},
   "outputs": [
    {
     "data": {
      "text/plain": [
       "array([   1,  215, 1401, 1437, 1982, 1858, 1519, 1366,  218,    3])"
      ]
     },
     "execution_count": 3,
     "metadata": {},
     "output_type": "execute_result"
    }
   ],
   "source": [
    "truth_hist"
   ]
  },
  {
   "cell_type": "code",
   "execution_count": 4,
   "id": "b9d0fa8a-8fd2-4a34-8673-fcbec31ed9d3",
   "metadata": {},
   "outputs": [
    {
     "data": {
      "text/plain": [
       "array([  18,  284, 1237, 1399, 2098, 2010, 1470, 1177,  291,   16])"
      ]
     },
     "execution_count": 4,
     "metadata": {},
     "output_type": "execute_result"
    }
   ],
   "source": [
    "observed_hist"
   ]
  },
  {
   "cell_type": "code",
   "execution_count": 5,
   "id": "e7cb7679-c90a-4943-89c2-b329cd45ef09",
   "metadata": {},
   "outputs": [
    {
     "data": {
      "text/plain": [
       "<matplotlib.image.AxesImage at 0x14c50a8a0>"
      ]
     },
     "execution_count": 5,
     "metadata": {},
     "output_type": "execute_result"
    },
    {
     "data": {
      "image/png": "[encoded data removed]",
      "text/plain": [
       "<Figure size 640x480 with 1 Axes>"
      ]
     },
     "metadata": {},
     "output_type": "display_data"
    }
   ],
   "source": [
    "plt.imshow(response)"
   ]
  },
  {
   "cell_type": "code",
   "execution_count": 6,
   "id": "a278642c-8714-4d05-bf49-109227bf1f6d",
   "metadata": {},
   "outputs": [],
   "source": [
    "# test closure\n",
    "np.testing.assert_almost_equal(np.dot(response, truth_hist), observed_hist)"
   ]
  },
  {
   "cell_type": "code",
   "execution_count": null,
   "id": "4a059fb9-20b7-4e2b-9552-7bd4456c812a",
   "metadata": {},
   "outputs": [
    {
     "name": "stderr",
     "output_type": "stream",
     "text": [
      "Multiprocess sampling (4 chains in 4 jobs)\n",
      "Metropolis: [params]\n"
     ]
    },
    {
     "data": {
      "application/vnd.jupyter.widget-view+json": {
       "model_id": "8dda306c25424e24b3f6beb73388de2b",
       "version_major": 2,
       "version_minor": 0
      },
      "text/plain": [
       "Output()"
      ]
     },
     "metadata": {},
     "output_type": "display_data"
    }
   ],
   "source": [
    "model = pm.Model()\n",
    "\n",
    "with model:\n",
    "    params = pm.DiscreteUniform(\n",
    "        \"params\", \n",
    "        lower=truth_hist // 10, \n",
    "        upper=truth_hist * 10,\n",
    "    )\n",
    "    likelihood = pm.Poisson(\n",
    "        \"likelihood\", mu=pm.math.dot(response, params),\n",
    "        observed=observed_hist,\n",
    "    )\n",
    "    trace = pm.sample(draws=50000, tune=10000)"
   ]
  },
  {
   "cell_type": "code",
   "execution_count": null,
   "id": "22ffbeb5-9018-4f78-86f4-50545dd51b8c",
   "metadata": {},
   "outputs": [],
   "source": [
    "positions = [-4.5, -2.75, -1.5, -0.75, -0.25, 0.25, 0.75, 1.5, 2.75, 4.5]\n",
    "xerr = [1, 0.75, 0.5, 0.25, 0.25, 0.25, 0.25, 0.5, 0.75, 1]\n",
    "vp = plt.violinplot(\n",
    "    trace.posterior.params[0],\n",
    "    positions=positions,\n",
    "    showextrema=False,\n",
    ")\n",
    "eb = plt.errorbar(\n",
    "    x=positions,\n",
    "    y=truth_hist,\n",
    "    xerr=xerr,\n",
    "    fmt=\".\",\n",
    ")\n",
    "plt.legend([vp[\"bodies\"][0], eb.lines], [\"Posterior\", \"Truth\"])"
   ]
  },
  {
   "cell_type": "code",
   "execution_count": null,
   "id": "6ac05fff-b922-40e1-a9ac-9acf52d3e922",
   "metadata": {},
   "outputs": [],
   "source": []
  }
 ],
 "metadata": {
  "kernelspec": {
   "display_name": "Python 3 (ipykernel)",
   "language": "python",
   "name": "python3"
  },
  "language_info": {
   "codemirror_mode": {
    "name": "ipython",
    "version": 3
   },
   "file_extension": ".py",
   "mimetype": "text/x-python",
   "name": "python",
   "nbconvert_exporter": "python",
   "pygments_lexer": "ipython3",
   "version": "3.12.6"
  }
 },
 "nbformat": 4,
 "nbformat_minor": 5
}
